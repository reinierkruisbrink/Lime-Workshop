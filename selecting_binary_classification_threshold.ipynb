{
 "cells": [
  {
   "cell_type": "code",
   "execution_count": null,
   "metadata": {
    "tags": []
   },
   "outputs": [],
   "source": [
    "import pandas as pd\n",
    "import plotly.express as px"
   ]
  },
  {
   "cell_type": "code",
   "execution_count": null,
   "metadata": {
    "tags": []
   },
   "outputs": [],
   "source": [
    "y_true = [False,  True,  True, False, False,  True, False, False, False,\n",
    "       False, False,  True,  True,  True,  True,  True, False, False,\n",
    "        True,  True, False,  True, False,  True,  True, False, False,\n",
    "        True,  True, False,  True,  True,  True,  True, False,  True,\n",
    "        True, False,  True, False, False,  True,  True, False, False,\n",
    "       False,  True,  True, False, False]\n",
    "y_pred_prob = [0.44839687, 0.92633269, 0.65914581, 0.17905397, 0.40417923,\n",
    "       0.47162528, 0.15476492, 0.59346126, 0.54024882, 0.46245561,\n",
    "       0.38636323, 0.98602046, 0.15788436, 0.54024882, 0.91074003,\n",
    "       0.8193212 , 0.3440063 , 0.31334757, 0.78226145, 0.91401247,\n",
    "       0.52908781, 0.99243193, 0.58230025, 0.7025755 , 0.58230025,\n",
    "       0.13056516, 0.50801374, 0.29276724, 0.4597397 , 0.15981569,\n",
    "       0.72814605, 0.78462172, 0.75172519, 0.91401247, 0.09549534,\n",
    "       0.81102209, 0.48224654, 0.3550919 , 0.68840797, 0.17606575,\n",
    "       0.28834576, 0.59731907, 0.37894104, 0.15474382, 0.33875763,\n",
    "       0.37722093, 0.98223886, 0.59346126, 0.17606575, 0.19882789]\n",
    "df = pd.DataFrame(\n",
    "    {\n",
    "        \"y_pred_prob\": y_pred_prob,\n",
    "        \"y_true\": y_true,\n",
    "    }\n",
    ")\n"
   ]
  },
  {
   "cell_type": "code",
   "execution_count": null,
   "metadata": {
    "tags": []
   },
   "outputs": [],
   "source": [
    "def calculate_benefits_per_threshold(\n",
    "    df: pd.DataFrame,\n",
    "    true_postive_benefit: int,\n",
    "    false_positive_cost: int,\n",
    "    true_negative_benefit: int,\n",
    "    false_negative_cost: int,\n",
    "    number_of_thresholds: int = 1,\n",
    ") -> pd.DataFrame:\n",
    "    thresholds = [i / 100 for i in range(0, 100, number_of_thresholds)]\n",
    "    benefits = []\n",
    "\n",
    "    for threshold in thresholds:\n",
    "        predictions = df.copy()[\"y_pred_prob\"] > threshold\n",
    "        true_positives = ((predictions == df[\"y_true\"]) & (predictions == 1)).sum()\n",
    "        false_positives = ((predictions != df[\"y_true\"]) & (predictions == 1)).sum()\n",
    "        true_negatives = ((predictions == df[\"y_true\"]) & (predictions == 0)).sum()\n",
    "        false_negatives = ((predictions != df[\"y_true\"]) & (predictions == 0)).sum()\n",
    "\n",
    "        benefit = (\n",
    "            true_positives * true_postive_benefit\n",
    "            + true_negatives * true_negative_benefit\n",
    "            - false_positives * false_positive_cost\n",
    "            - false_negatives * false_negative_cost\n",
    "        )\n",
    "        benefits.append(benefit)\n",
    "\n",
    "    benefit_per_threshold = pd.DataFrame(\n",
    "        {\"Threshold\": thresholds, \"Total Benefit\": benefits}\n",
    "    )\n",
    "    return benefit_per_threshold\n"
   ]
  },
  {
   "cell_type": "code",
   "execution_count": null,
   "metadata": {
    "tags": []
   },
   "outputs": [],
   "source": [
    "benefit_per_threshold = calculate_benefits_per_threshold(\n",
    "    df=df,\n",
    "    true_postive_benefit=10,\n",
    "    false_positive_cost=3,\n",
    "    true_negative_benefit=1,\n",
    "    false_negative_cost=5\n",
    ")\n",
    "\n",
    "px.line(benefit_per_threshold, x='Threshold', y=\"Total Benefit\", )"
   ]
  },
  {
   "cell_type": "code",
   "execution_count": null,
   "metadata": {
    "tags": []
   },
   "outputs": [],
   "source": [
    "benefit_per_threshold.iloc[benefit_per_threshold['Total Benefit'].argmax()]"
   ]
  }
 ],
 "metadata": {
  "kernelspec": {
   "display_name": "Python 3 (ipykernel)",
   "language": "python",
   "name": "python3"
  },
  "language_info": {
   "codemirror_mode": {
    "name": "ipython",
    "version": 3
   },
   "file_extension": ".py",
   "mimetype": "text/x-python",
   "name": "python",
   "nbconvert_exporter": "python",
   "pygments_lexer": "ipython3",
   "version": "3.9.13"
  }
 },
 "nbformat": 4,
 "nbformat_minor": 4
}
